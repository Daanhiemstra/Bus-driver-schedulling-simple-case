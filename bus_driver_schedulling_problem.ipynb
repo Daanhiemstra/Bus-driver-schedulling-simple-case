{
 "cells": [
  {
   "cell_type": "code",
   "execution_count": 262,
   "metadata": {},
   "outputs": [],
   "source": [
    "import pulp as plp\n",
    "from random import seed\n",
    "from random import randint\n",
    "import numpy as np"
   ]
  },
  {
   "cell_type": "markdown",
   "metadata": {},
   "source": [
    " \n",
    "## Bus driver schedulling "
   ]
  },
  {
   "cell_type": "markdown",
   "metadata": {},
   "source": [
    "\n",
    "Dit notebook is gemaakt voor een case waar buschauffeur worden gescheduled aan de trips in een dag (9-17). Er zijn 4 verschillende routes in San Fransisco (A,B,C,D) die om het uur vertrekken en terugkomen bij locatie X. Route A & B duurt in totaal 2 uur tot hij weer bij locatie X is aangekomen, terwijl C & D maar 1 uur duren. Deze trips moeten assigned worden aan buschauffeur die op oproep basis in dienst zijn bij de vervoerder. Echter zijn er verschillende CAO regels mbt buschauffeurs waar de vervoerder aan moet voldoen:\n",
    "  1. buschauffeurs krijgen voor ieder uur dat ze een bus besturen 12 euro betaald\n",
    "  2. Ze krijgen minimaal voor 4 uur rijden betaald.\n",
    "  3. Voor ieder uur dat ze overwerken (>8 uur) krijgen ze 1,5 uur betaald\n",
    "  4. Elke buschauffeur moet na 3 uur rijden minimaal 1 uur pauze houden\n",
    "  5. Buschauffeurs moeten een divers rooster rijden: maximaal 3 x dezelfde route op 1 dag.\n",
    " "
   ]
  },
  {
   "cell_type": "markdown",
   "metadata": {},
   "source": [
    "# Genereren van routes"
   ]
  },
  {
   "cell_type": "code",
   "execution_count": 263,
   "metadata": {},
   "outputs": [],
   "source": [
    "from collections import defaultdict\n",
    "from pprint import pprint\n",
    "import random\n",
    "\n",
    "def generate_trips(route_names, start_hour, end_hour):\n",
    "  set_of_trips = {}\n",
    "  for route_name in route_names: \n",
    "    for hour in range(start_hour, end_hour):\n",
    "        if (route_name ==\"A\") or (route_name==\"C\"):\n",
    "            trip = {\"route\":route_name,'departure_time':hour, 'arrival_time': hour+1,\"duration\": 1}     \n",
    "            set_of_trips[\"{}:{}-{}\".format(route_name,hour,hour+1)]= trip\n",
    "        else:\n",
    "            trip = {\"route\":route_name,'departure_time':hour, 'arrival_time': hour+2,'duration':2}\n",
    "            set_of_trips[\"{}:{}-{}\".format(route_name,hour,hour+2)]= trip\n",
    "  return set_of_trips\n",
    "\n"
   ]
  },
  {
   "cell_type": "code",
   "execution_count": 264,
   "metadata": {},
   "outputs": [
    {
     "name": "stdout",
     "output_type": "stream",
     "text": [
      "Alle trips zitten in een dictionary:\n",
      "------------------------------------\n",
      "{'A:8-9': {'route': 'A', 'departure_time': 8, 'arrival_time': 9, 'duration': 1}, 'A:9-10': {'route': 'A', 'departure_time': 9, 'arrival_time': 10, 'duration': 1}, 'A:10-11': {'route': 'A', 'departure_time': 10, 'arrival_time': 11, 'duration': 1}, 'A:11-12': {'route': 'A', 'departure_time': 11, 'arrival_time': 12, 'duration': 1}, 'A:12-13': {'route': 'A', 'departure_time': 12, 'arrival_time': 13, 'duration': 1}, 'A:13-14': {'route': 'A', 'departure_time': 13, 'arrival_time': 14, 'duration': 1}, 'A:14-15': {'route': 'A', 'departure_time': 14, 'arrival_time': 15, 'duration': 1}, 'A:15-16': {'route': 'A', 'departure_time': 15, 'arrival_time': 16, 'duration': 1}, 'B:8-10': {'route': 'B', 'departure_time': 8, 'arrival_time': 10, 'duration': 2}, 'B:9-11': {'route': 'B', 'departure_time': 9, 'arrival_time': 11, 'duration': 2}, 'B:10-12': {'route': 'B', 'departure_time': 10, 'arrival_time': 12, 'duration': 2}, 'B:11-13': {'route': 'B', 'departure_time': 11, 'arrival_time': 13, 'duration': 2}, 'B:12-14': {'route': 'B', 'departure_time': 12, 'arrival_time': 14, 'duration': 2}, 'B:13-15': {'route': 'B', 'departure_time': 13, 'arrival_time': 15, 'duration': 2}, 'B:14-16': {'route': 'B', 'departure_time': 14, 'arrival_time': 16, 'duration': 2}, 'B:15-17': {'route': 'B', 'departure_time': 15, 'arrival_time': 17, 'duration': 2}, 'C:8-9': {'route': 'C', 'departure_time': 8, 'arrival_time': 9, 'duration': 1}, 'C:9-10': {'route': 'C', 'departure_time': 9, 'arrival_time': 10, 'duration': 1}, 'C:10-11': {'route': 'C', 'departure_time': 10, 'arrival_time': 11, 'duration': 1}, 'C:11-12': {'route': 'C', 'departure_time': 11, 'arrival_time': 12, 'duration': 1}, 'C:12-13': {'route': 'C', 'departure_time': 12, 'arrival_time': 13, 'duration': 1}, 'C:13-14': {'route': 'C', 'departure_time': 13, 'arrival_time': 14, 'duration': 1}, 'C:14-15': {'route': 'C', 'departure_time': 14, 'arrival_time': 15, 'duration': 1}, 'C:15-16': {'route': 'C', 'departure_time': 15, 'arrival_time': 16, 'duration': 1}, 'D:8-10': {'route': 'D', 'departure_time': 8, 'arrival_time': 10, 'duration': 2}, 'D:9-11': {'route': 'D', 'departure_time': 9, 'arrival_time': 11, 'duration': 2}, 'D:10-12': {'route': 'D', 'departure_time': 10, 'arrival_time': 12, 'duration': 2}, 'D:11-13': {'route': 'D', 'departure_time': 11, 'arrival_time': 13, 'duration': 2}, 'D:12-14': {'route': 'D', 'departure_time': 12, 'arrival_time': 14, 'duration': 2}, 'D:13-15': {'route': 'D', 'departure_time': 13, 'arrival_time': 15, 'duration': 2}, 'D:14-16': {'route': 'D', 'departure_time': 14, 'arrival_time': 16, 'duration': 2}, 'D:15-17': {'route': 'D', 'departure_time': 15, 'arrival_time': 17, 'duration': 2}}\n"
     ]
    }
   ],
   "source": [
    "routes = 'ABCD'\n",
    "start_hour = 8\n",
    "end_hour = start_hour + 8\n",
    "trips = generate_trips(routes, start_hour, end_hour)\n",
    "print(\"Alle trips zitten in een dictionary:\")\n",
    "print(\"------------------------------------\")\n",
    "print(trips)"
   ]
  },
  {
   "cell_type": "markdown",
   "metadata": {},
   "source": [
    "# A) Bepaal alle mogelijke dagroosters/duties\n",
    "Bepaal met behulp van een graph alle mogelijke dagroosters/duties"
   ]
  },
  {
   "cell_type": "code",
   "execution_count": 265,
   "metadata": {},
   "outputs": [],
   "source": [
    "import networkx as nx\n",
    "def generate_all_possible_duties(trips):\n",
    "    # input is the trips of the problem\n",
    "    arcs=[]\n",
    "    start_node = \"start_of_the_day\"\n",
    "    final_node = \"end_of_the_day\"\n",
    "    for from_trip in trips:\n",
    "        arcs.append([start_node,from_trip])\n",
    "        arcs.append([from_trip,final_node])\n",
    "        for to_trip in trips:\n",
    "            #max 2 hours between two trips!\n",
    "            if (trips[from_trip]['arrival_time']<=trips[to_trip][\"departure_time\"]) and  (trips[to_trip][\"departure_time\"]-trips[from_trip]['arrival_time']<2):\n",
    "                arcs.append([from_trip, to_trip])\n",
    "\n",
    "    directed_graph = {}\n",
    "\n",
    "    directed_graph = nx.DiGraph()\n",
    "\n",
    "    # Add all nodes to the networkx graph\n",
    "    directed_graph.add_nodes_from(trips)\n",
    "\n",
    "    #add all compatible arcs to the networkx graph\n",
    "    directed_graph.add_edges_from([(arc[0], arc[1]) for arc in arcs])\n",
    "\n",
    "    all_duties=[]\n",
    "    duties = nx.all_simple_paths(directed_graph, start_node, final_node)\n",
    "    all_duties.extend(duties)\n",
    "    return all_duties\n"
   ]
  },
  {
   "cell_type": "code",
   "execution_count": 266,
   "metadata": {},
   "outputs": [
    {
     "name": "stdout",
     "output_type": "stream",
     "text": [
      "Het netwerk heeft mbv alle paden van start van de dag tot einde alle duties gemaakt. Hier een sample van 5 willekeurige\n",
      "['start_of_the_day', 'C:8-9', 'C:10-11', 'A:12-13', 'C:13-14', 'C:14-15', 'C:15-16', 'end_of_the_day']\n",
      "['start_of_the_day', 'C:9-10', 'C:10-11', 'A:11-12', 'A:13-14', 'D:14-16', 'end_of_the_day']\n",
      "['start_of_the_day', 'C:8-9', 'C:9-10', 'A:10-11', 'C:11-12', 'A:12-13', 'A:13-14', 'C:14-15', 'end_of_the_day']\n",
      "['start_of_the_day', 'C:8-9', 'A:9-10', 'A:10-11', 'A:11-12', 'C:12-13', 'C:13-14', 'A:14-15', 'end_of_the_day']\n",
      "['start_of_the_day', 'D:9-11', 'A:11-12', 'A:12-13', 'C:13-14', 'A:14-15', 'A:15-16', 'end_of_the_day']\n"
     ]
    }
   ],
   "source": [
    "trips = generate_trips(routes, start_hour, end_hour)\n",
    "duties = generate_all_possible_duties(trips)\n",
    "print('Het netwerk heeft mbv alle paden van start van de dag tot einde alle duties gemaakt. Hier een sample van 5 willekeurige')\n",
    "for _ in range(0,5):\n",
    "    idx_duty = randint(0, len(duties))\n",
    "    print(duties[idx_duty])\n"
   ]
  },
  {
   "cell_type": "code",
   "execution_count": null,
   "metadata": {},
   "outputs": [],
   "source": []
  },
  {
   "cell_type": "markdown",
   "metadata": {},
   "source": [
    "# Voeg kosten toe a.d.h.v CAO en betalings regels"
   ]
  },
  {
   "cell_type": "code",
   "execution_count": 316,
   "metadata": {},
   "outputs": [],
   "source": [
    "def cost(duty,all_trips):\n",
    "  \"\"\"\n",
    "  parameter voor overuren\n",
    "  1. De vervoerder betaald 70 euro als ze een cheaffeaur een dag willen inhuren\n",
    "  2. buschauffeurs krijgen voor ieder uur dat ze een bus rijden 12 euro betaald\n",
    "  3. Ze krijgen minimaal voor 4 euro rijden betaald.\n",
    "  4. Voor ieder uur dat ze overwerken (6 > uur) krijgen ze 1,5 uur uitbetaald\n",
    "  5. Ze worden voor uren dat ze niet rijden maar wel op werk zijn 6 euro betaald. \n",
    "  6. Elke buschauffeur moet na 3 uur rijden minimaal 1 uur pauze houden\n",
    "  \n",
    "  OPTIONAL\n",
    "  7. Diversiteit: Buschauffeurs moeten een divers rooster rijden: maximaal 3 x dezelfde route op 1 dag.\n",
    "  \"\"\"\n",
    "  # Rule 1\n",
    "    \n",
    "  # Rule 2\n",
    "\n",
    "  # Rule 3\n",
    "    \n",
    "  # Rule 4\n",
    "    \n",
    "  # Rule 5\n",
    "\n",
    "\n",
    "  duty = duty[1:-1]  # remover start en end node\n",
    "    \n",
    "  total_hours_worked = all_trips[duty[-1]]['arrival_time'] - all_trips[duty[0]]['departure_time'] \n",
    "  total_hours_driven = sum([all_trips[duty_trip]['duration'] for duty_trip in duty])\n",
    "  \n",
    "  # Rule 1\n",
    "  pay = 70\n",
    "    \n",
    "  # Rule 2 & 3\n",
    "  pay += max(total_hours_driven * 12,12*4)\n",
    "    \n",
    "  # Rule 4   \n",
    "  if total_hours_driven > 5:\n",
    "    pay += (1.2 * (total_hours_driven-3))*12\n",
    "  \n",
    "  # rule 5\n",
    "  break_hours = max(total_hours_worked - total_hours_driven,0)\n",
    "  pay += break_hours * 4\n",
    "    \n",
    "#   # rule 6\n",
    "#   subsequent_hours = 0 \n",
    "#   arrival_time_previous = all_trips[duty[0]]['departure_time']\n",
    "\n",
    "#   for duty_trip in duty:\n",
    "#     if arrival_time_previous==all_trips[duty_trip]['departure_time']:\n",
    "#        subsequent_hours +=all_trips[duty_trip]['duration']\n",
    "#     else:\n",
    "#        subsequent_hours = 0\n",
    "    \n",
    "#     if subsequent_hours> 3:\n",
    "#         pay=1000000\n",
    "#     arrival_time_previous = all_trips[duty_trip]['arrival_time']\n",
    "\n",
    "#   # rule 7\n",
    "#   route = [all_trips[duty_trip]['route'] for duty_trip in duty]\n",
    "#   diversity_route = [True for trip in np.unique(route) if route.count(trip)>2]\n",
    "#   if len(diversity_route)>0:\n",
    "#     pay = 1000000\n",
    "  return pay"
   ]
  },
  {
   "cell_type": "markdown",
   "metadata": {},
   "source": [
    "## PuLP Solver\n",
    "Deze functies lossen het set partitioning problem op!"
   ]
  },
  {
   "cell_type": "code",
   "execution_count": 317,
   "metadata": {},
   "outputs": [],
   "source": [
    "def solve(duties, trips):\n",
    "  problem = plp.LpProblem('driver_scheduling', plp.LpMinimize)\n",
    "  variables = []\n",
    "  costs = []\n",
    "  # Data structure to generate constraints for each trip.\n",
    "  variables_for_trip = {trip: [] for trip in trips}\n",
    "\n",
    "  # We have to make sure there's some set of duties that really do include all\n",
    "  # the trips. Since we randomly generate duties, we can't be sure. E.g., we\n",
    "  # could get unlucky and randomly generate duties that all only have trips on\n",
    "  # the 'A' route. To solve this problem, generate one duty for each trip that\n",
    "  # includes only that trip.\n",
    "  duties = duties # + [[trip] for trip in trips]\n",
    "\n",
    "  # Gather up variables and costs\n",
    "  for i, duty in enumerate(duties):\n",
    "    # Create a binary variable (the value can be only 0 or 1)\n",
    "    x = plp.LpVariable('x{}'.format(i + 1), 0, 1, plp.LpBinary)\n",
    "    variables.append(x)\n",
    "    costs.append(duty[0])\n",
    "    for trip in duty[1]:\n",
    "      variables_for_trip[trip].append(x)\n",
    "\n",
    "  # Create the objective function. lpDot is shorthand for\n",
    "  # c * x for (c, x) in zip(costs, variables)\n",
    "  problem += plp.lpDot(costs, variables)\n",
    "\n",
    "  # Create constraints that for each trip, exactly one x from the duties\n",
    "  # including it must be 1.\n",
    "  for xs in variables_for_trip.values():\n",
    "    problem += plp.lpSum(xs) == 1\n",
    "\n",
    "  # Pulp gives a very nice string representation of the problem when printed.\n",
    "  #print(problem)\n",
    "  status = problem.solve()\n",
    "  print(plp.LpStatus[status])\n",
    "\n",
    "  # We have a solution, now look at the values of xs to determine which duties\n",
    "  # to use. Sum the cost for each used duty.\n",
    "  solution = []\n",
    "  total_cost = 0\n",
    "  for i, x in enumerate(variables):\n",
    "    if x.value():\n",
    "      solution.append(duties[i])\n",
    "      total_cost += costs[i]\n",
    "  return solution, total_cost\n"
   ]
  },
  {
   "cell_type": "code",
   "execution_count": 318,
   "metadata": {},
   "outputs": [],
   "source": [
    "\n",
    "def plot_gantt_chart():# Importing the matplotlb.pyplot \n",
    "    import matplotlib.pyplot as plt \n",
    "\n",
    "    # Declaring a figure \"gnt\" \n",
    "    fig, gnt = plt.subplots() \n",
    "\n",
    "    # Setting Y-axis limits \n",
    "    gnt.set_ylim(-1, len(solution_duties)) \n",
    "\n",
    "    # Setting X-axis limits \n",
    "    gnt.set_xlim(8, 19) \n",
    "\n",
    "    # Setting labels for x-axis and y-axis \n",
    "    gnt.set_xlabel('Hour of the day') \n",
    "    gnt.set_ylabel('Route') \n",
    "\n",
    "    # Setting ticks on y-axis \n",
    "    gnt.set_yticks([i+0.25 for i in range(0,len(solution_duties)+1)]) \n",
    "    # Labelling tickes of y-axis \n",
    "    gnt.set_yticklabels(['driver ' + str(i) for i in range(1,len(solution_duties)+1)]) \n",
    "    color = [\"red\",\"green\",'blue','black']\n",
    "\n",
    "    counter = 0\n",
    "    gnt.grid(True) \n",
    "    for driver in solution_duties:\n",
    "        for driver_trips in driver[1]:\n",
    "            arrival_time = trips[driver_trips][\"arrival_time\"]\n",
    "            departure_time = trips[driver_trips][\"departure_time\"]\n",
    "            route = ord(trips[driver_trips][\"route\"])-65\n",
    "            gnt.broken_barh([(departure_time, arrival_time-departure_time)], (counter, 0.5), facecolors =color[route],edgecolor='white',linewidth=2) \n",
    "        counter+=1\n",
    "    # Plot colorbar\n",
    "    plt.show()      "
   ]
  },
  {
   "cell_type": "markdown",
   "metadata": {},
   "source": [
    "## Test het scenario"
   ]
  },
  {
   "cell_type": "code",
   "execution_count": 319,
   "metadata": {},
   "outputs": [
    {
     "name": "stdout",
     "output_type": "stream",
     "text": [
      "lenght of trips is {} 36\n",
      "number of duties is {} 91332\n",
      "calculated the costs of each duty\n",
      "Optimal\n",
      "Cost: 1442\n",
      "[(130, ['A:8-9', 'D:9-11', 'B:11-13']),\n",
      " (138, ['A:10-11', 'A:12-13', 'D:14-16', 'C:16-17']),\n",
      " (130, ['B:8-10', 'B:10-12', 'C:12-13']),\n",
      " (134, ['B:9-11', 'C:11-12', 'D:13-15']),\n",
      " (130, ['B:12-14', 'A:14-15', 'B:15-17']),\n",
      " (130, ['B:13-15', 'C:15-16', 'D:16-18']),\n",
      " (130, ['C:8-9', 'A:9-10', 'C:10-11', 'D:11-13']),\n",
      " (142, ['C:9-10', 'A:11-12', 'A:13-14', 'D:15-17']),\n",
      " (130, ['C:13-14', 'B:14-16', 'B:16-18']),\n",
      " (118, ['D:8-10', 'D:10-12']),\n",
      " (130, ['D:12-14', 'C:14-15', 'A:15-16', 'A:16-17'])]\n"
     ]
    },
    {
     "data": {
      "image/png": "[encoded data removed]",
      "text/plain": [
       "<Figure size 432x288 with 1 Axes>"
      ]
     },
     "metadata": {
      "needs_background": "light"
     },
     "output_type": "display_data"
    }
   ],
   "source": [
    "import numpy as np\n",
    "routes = 'ABCD'\n",
    "start_hour = 8\n",
    "end_hour = start_hour + 9\n",
    "trips = generate_trips(routes, start_hour, end_hour)\n",
    "print(\"lenght of trips is {}\",format(len(trips)))\n",
    "duties = generate_all_possible_duties(trips)\n",
    "print(\"number of duties is {}\",format(len(duties)))\n",
    "duties_with_costs = [(cost(duty,trips), duty[1:-1]) for duty in duties]\n",
    "print('calculated the costs of each duty')\n",
    "solution_duties, solution_cost = solve(duties_with_costs, trips)\n",
    "print(\"Cost: {}\".format(solution_cost))\n",
    "pprint(solution_duties)\n",
    "plot_gantt_chart()"
   ]
  },
  {
   "cell_type": "code",
   "execution_count": null,
   "metadata": {},
   "outputs": [],
   "source": []
  },
  {
   "cell_type": "code",
   "execution_count": null,
   "metadata": {},
   "outputs": [],
   "source": []
  },
  {
   "cell_type": "code",
   "execution_count": null,
   "metadata": {},
   "outputs": [],
   "source": []
  },
  {
   "cell_type": "code",
   "execution_count": 140,
   "metadata": {},
   "outputs": [
    {
     "data": {
      "text/plain": [
       "<matplotlib.collections.BrokenBarHCollection at 0xa176d2470>"
      ]
     },
     "execution_count": 140,
     "metadata": {},
     "output_type": "execute_result"
    },
    {
     "data": {
      "image/png": "[encoded data removed]",
      "text/plain": [
       "<Figure size 432x288 with 1 Axes>"
      ]
     },
     "metadata": {
      "needs_background": "light"
     },
     "output_type": "display_data"
    }
   ],
   "source": [
    "\n",
    "# Importing the matplotlb.pyplot \n",
    "import matplotlib.pyplot as plt \n",
    "  \n",
    "# Declaring a figure \"gnt\" \n",
    "fig, gnt = plt.subplots() \n",
    "  \n",
    "# Setting Y-axis limits \n",
    "gnt.set_ylim(0, 50) \n",
    "  \n",
    "# Setting X-axis limits \n",
    "gnt.set_xlim(0, 160) \n",
    "  \n",
    "# Setting labels for x-axis and y-axis \n",
    "gnt.set_xlabel('seconds since start') \n",
    "gnt.set_ylabel('Processor') \n",
    "  \n",
    "# Setting ticks on y-axis \n",
    "gnt.set_yticks([15, 25, 35]) \n",
    "# Labelling tickes of y-axis \n",
    "gnt.set_yticklabels(['1', '2', '3']) \n",
    "  \n",
    "# Setting graph attribute \n",
    "gnt.grid(True) \n",
    "  \n",
    "# Declaring a bar in schedule \n",
    " \n",
    "gnt.broken_barh([(40, 50)], (30, 9), facecolors =('tab:orange')) \n",
    "  \n",
    "# Declaring multiple bars in at same level and same width \n",
    "gnt.broken_barh([(110, 10), (150, 10)], (10, 9), \n",
    "                         facecolors ='tab:blue') \n",
    "  \n",
    "gnt.broken_barh([(10, 50), (100, 20), (130, 10)], (20, 9), \n",
    "                                  facecolors =('tab:red')) "
   ]
  },
  {
   "cell_type": "code",
   "execution_count": null,
   "metadata": {},
   "outputs": [],
   "source": []
  }
 ],
 "metadata": {
  "kernelspec": {
   "display_name": "Python 3",
   "language": "python",
   "name": "python3"
  },
  "language_info": {
   "codemirror_mode": {
    "name": "ipython",
    "version": 3
   },
   "file_extension": ".py",
   "mimetype": "text/x-python",
   "name": "python",
   "nbconvert_exporter": "python",
   "pygments_lexer": "ipython3",
   "version": "3.7.3"
  }
 },
 "nbformat": 4,
 "nbformat_minor": 4
}
